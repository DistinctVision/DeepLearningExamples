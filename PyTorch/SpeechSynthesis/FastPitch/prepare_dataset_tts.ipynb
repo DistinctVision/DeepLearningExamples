{
  "nbformat": 4,
  "nbformat_minor": 0,
  "metadata": {
    "colab": {
      "provenance": []
    },
    "kernelspec": {
      "name": "python3",
      "display_name": "Python 3"
    },
    "language_info": {
      "name": "python"
    }
  },
  "cells": [
    {
      "cell_type": "code",
      "source": [
        "# from google.colab import drive\n",
        "# drive.mount('/content/drive')"
      ],
      "metadata": {
        "id": "L0M9nxD5aanZ",
        "colab": {
          "base_uri": "https://localhost:8080/"
        },
        "outputId": "000aa750-64c1-4332-d32f-8dd59c4299ac"
      },
      "execution_count": null,
      "outputs": [
        {
          "output_type": "stream",
          "name": "stdout",
          "text": [
            "Mounted at /content/drive\n"
          ]
        }
      ]
    },
    {
      "cell_type": "code",
      "source": [
        "! tar -xvf '/Downloads/hi_fi_tts_v0.tar.gz' -C '/datasets/hi_fi_tts_v0/'\n",
        "! cd '/datasets/hi_fi_tts_v0/'"
      ],
      "metadata": {
        "id": "HMxs07UsdZJR"
      },
      "execution_count": null,
      "outputs": []
    },
    {
      "cell_type": "code",
      "source": [
        "! pip install audiofile\n",
        "! pip install pydub"
      ],
      "metadata": {
        "id": "6skloSKnZklL"
      },
      "execution_count": null,
      "outputs": []
    },
    {
      "cell_type": "code",
      "execution_count": null,
      "metadata": {
        "id": "3mRMedDVVgxA"
      },
      "outputs": [],
      "source": [
        "from pathlib import Path\n",
        "import os\n",
        "from tqdm import tqdm\n",
        "import audiofile\n",
        "from pydub import AudioSegment\n",
        "import json"
      ]
    },
    {
      "cell_type": "code",
      "source": [
        "# coverts flac files to wavs and removes flac\n",
        "\n",
        "def convert_to_wavs(audio_path):\n",
        "  flacs = [f for f in audio_path.iterdir() if f.suffix == '.flac']\n",
        "  for flac in tqdm(flacs):\n",
        "    wav_name = str(flac.absolute()).split('.')[0] + '.wav'\n",
        "    flac_audio = AudioSegment.from_file(flac, \"flac\")\n",
        "    flac_audio.export(wav_name, format=\"wav\")\n",
        "    os.remove(flac)"
      ],
      "metadata": {
        "id": "36uIHMItYSJ0"
      },
      "execution_count": null,
      "outputs": []
    },
    {
      "cell_type": "code",
      "source": [
        "# remove other audio and files\n",
        "\n",
        "def remove_other(dataset_path):\n",
        "  for path in dataset_path.iterdir():\n",
        "    if path.suffix == '.json' and 'other' in path.name:\n",
        "      os.remove(path)\n",
        "\n",
        "  audio_path = dataset_path / 'audio'\n",
        "  for path in audio_path.iterdir():\n",
        "    if 'other' in path.name:\n",
        "      os.remove(path)"
      ],
      "metadata": {
        "id": "wNJ5pJxtX1Ls"
      },
      "execution_count": null,
      "outputs": []
    },
    {
      "cell_type": "code",
      "source": [
        "# creates meta.csv and fills it with data of the dataset\n",
        "def create_meta_txt(dataset_path, csv_path):\n",
        "  jsons = [f for f in dataset_path.iterdir() if f.suffix == '.json']\n",
        "\n",
        "  with open(csv_path, 'rw') as f:\n",
        "    for json_file in jsons:\n",
        "      data = read_json(json_file)\n",
        "      for wav, text, speaker in data:\n",
        "        f.write(f'{str(wav)}|{text}|{speaker}\\n')\n",
        "\n",
        "\n",
        "# reads json row by row and collects the data\n",
        "def read_json(json_path):\n",
        "  data = []\n",
        "  speaker = get_speaker(json_path)\n",
        "\n",
        "  with open(json_path, 'r', newline=\"\\n\") as file:\n",
        "    for row in file:\n",
        "      data = json.load(row)\n",
        "      file_path = data['audio_filepath'].split('.')[0] + '.wav'\n",
        "      text = data['text_normalized']\n",
        "      if Path(file_path).exists():\n",
        "        data.append((file_path, text, speaker))\n",
        "      else:\n",
        "        print(f'File not found for {file_path}')\n",
        "  return data\n",
        "\n",
        "\n",
        "# returns speaker id\n",
        "def get_speaker(json_file):\n",
        "  for speaker in SPEAKERS:\n",
        "    if speaker in json_file.name:\n",
        "      return speaker\n",
        "    else:\n",
        "      print(f'Speaker not found for {json_file.name}')\n",
        "      return None\n"
      ],
      "metadata": {
        "id": "a4BAtdmyjzBX"
      },
      "execution_count": 54,
      "outputs": []
    },
    {
      "cell_type": "code",
      "source": [
        "readers = ['9017', '6097', '92']\n",
        "\n",
        "# SPEAKER_ID = dict(zip(readers, [1, 2, 3]))\n",
        "SPEAKERS = readers\n",
        "\n",
        "dataset_path = Path('~/datasets/hi_fi_tts_v0').expanduser()\n",
        "\n",
        "audio_path = dataset_path / 'audio'\n",
        "transcript_path = dataset_path\n",
        "csv_path = dataset_path / 'meta.txt'\n",
        "# wavs_path = dataset_path / 'wavs'\n",
        "# wavs_path.mkdir(exist_ok=True)\n",
        "\n",
        "remove_other(dataset_path)\n",
        "convert_to_wavs(audio_path)\n",
        "create_meta_txt(csv_path)\n"
      ],
      "metadata": {
        "id": "7euwFVrUVkIh"
      },
      "execution_count": null,
      "outputs": []
    }
  ]
}