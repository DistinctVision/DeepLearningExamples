{
 "cells": [
  {
   "cell_type": "code",
   "execution_count": 5,
   "metadata": {},
   "outputs": [
    {
     "name": "stderr",
     "output_type": "stream",
     "text": [
      "Files: 14it [00:00, 99.21it/s]\n"
     ]
    }
   ],
   "source": [
    "from pathlib import Path\n",
    "from tqdm import tqdm\n",
    "\n",
    "from common.text.unidecoder import _homoglyphs, _replacements\n",
    "\n",
    "def check_text(s, homoglyphs=False) -> bool:\n",
    "    \"\"\"Transliterate unicode\n",
    "\n",
    "    Args:\n",
    "        s (str): unicode string\n",
    "        homoglyphs (bool): prioritize translating to homoglyphs\n",
    "    \"\"\"\n",
    "    for u in s:\n",
    "        if ord(u) < 127:\n",
    "            a = u\n",
    "        elif homoglyphs:\n",
    "            a = _homoglyphs.get(u, _replacements.get(u, None))\n",
    "        else:\n",
    "            a = _replacements.get(u, _homoglyphs.get(u, None))\n",
    "\n",
    "        if a is None:\n",
    "            return False\n",
    "    return True\n",
    "\n",
    "\n",
    "folder = Path('filelists')\n",
    "\n",
    "speakers = {\n",
    "    'lj': \"0\",\n",
    "    'stephan': \"1\"\n",
    "}\n",
    "\n",
    "for file_path in tqdm(folder.iterdir(), desc='Files'):\n",
    "    if file_path.suffix != '.txt':\n",
    "        continue\n",
    "    new_data = []\n",
    "    with open(file_path, 'r') as file:\n",
    "        data = file.readlines()\n",
    "        for line in data:\n",
    "            line = line.strip()\n",
    "            if len(line) == 0:\n",
    "                continue\n",
    "            parts = line.split('|')\n",
    "            text = parts[-2]\n",
    "            if not check_text(text):\n",
    "                print(f'Problem text: {text}')\n",
    "                continue\n",
    "            speaker_str = parts[-1]\n",
    "            if speaker_str in speakers:\n",
    "                parts[-1] = speakers[speaker_str]\n",
    "            new_data.append('|'.join(parts) + '\\n')\n",
    "    with open(file_path, 'w') as file:\n",
    "        file.writelines(new_data)"
   ]
  },
  {
   "cell_type": "code",
   "execution_count": 3,
   "metadata": {},
   "outputs": [
    {
     "data": {
      "text/plain": [
       "PosixPath('filelists/stephan_audio_text.txt')"
      ]
     },
     "execution_count": 3,
     "metadata": {},
     "output_type": "execute_result"
    }
   ],
   "source": [
    "from pathlib import Path\n",
    "import shutil\n",
    "\n",
    "folder = Path('filelists')\n",
    "\n",
    "shutil.copy('/home/server2/datasets/Stephan/meta.txt', folder / 'stephan_audio_text.txt')"
   ]
  },
  {
   "cell_type": "code",
   "execution_count": 3,
   "metadata": {},
   "outputs": [],
   "source": [
    "import numpy as np\n",
    "\n",
    "with open('filelists/stephan_audio_text.txt', 'r') as file:\n",
    "    data = file.readlines()\n",
    "    data = [line for line in data if len(line.strip()) > 0]\n",
    "np.random.shuffle(data)\n",
    "\n",
    "val_data = data[:50]\n",
    "data = data[50:]\n",
    "\n",
    "test_data = data[:250]\n",
    "data = data[250:]\n",
    "\n",
    "train_data = data\n",
    "\n",
    "with open('filelists/stephan_audio_text_val.txt', 'w') as file:\n",
    "    file.writelines(val_data)\n",
    "with open('filelists/stephan_audio_text_test.txt', 'w') as file:\n",
    "    file.writelines(test_data)\n",
    "with open('filelists/stephan_audio_text_train.txt', 'w') as file:\n",
    "    file.writelines(train_data)"
   ]
  },
  {
   "cell_type": "code",
   "execution_count": 4,
   "metadata": {},
   "outputs": [],
   "source": [
    "from pathlib import Path\n",
    "\n",
    "l_files = [\n",
    "    ('filelists/stephan_audio_text_test.txt', 'filelists/stephan_audio_pitch_text_test.txt'),\n",
    "    ('filelists/stephan_audio_text_val.txt', 'filelists/stephan_audio_pitch_text_val.txt'),\n",
    "    ('filelists/stephan_audio_text_train.txt', 'filelists/stephan_audio_pitch_text_train.txt')\n",
    "]\n",
    "\n",
    "for in_file, out_file in l_files:\n",
    "    with open(in_file, 'r') as file:\n",
    "        data = file.readlines()\n",
    "        data = [line for line in data if len(line.strip()) > 0]\n",
    "        new_data = []\n",
    "        for line in data:\n",
    "            parts = line.strip().split('|')\n",
    "            wav_path = Path(parts[0])\n",
    "            pitch_path = Path('pitch') / f'{wav_path.stem}.pt'\n",
    "            parts.insert(1, str(pitch_path))\n",
    "            new_data.append('|'.join(parts) + '\\n')\n",
    "    with open(out_file, 'w') as file:\n",
    "        file.writelines(new_data)\n"
   ]
  },
  {
   "cell_type": "code",
   "execution_count": 8,
   "metadata": {},
   "outputs": [],
   "source": [
    "merge_data = {\n",
    "    'filelists/train.txt': [\n",
    "        {\n",
    "            'root': 'LJSpeech-1.1',\n",
    "            'list_file': 'filelists/ljs_audio_pitch_text_train_v3.txt'\n",
    "        },\n",
    "        {\n",
    "            'root': 'Stephan',\n",
    "            'list_file': 'filelists/stephan_audio_pitch_text_train.txt'\n",
    "        }\n",
    "    ],\n",
    "    'filelists/val.txt': [\n",
    "        {\n",
    "            'root': 'LJSpeech-1.1',\n",
    "            'list_file': 'filelists/ljs_audio_pitch_text_val.txt'\n",
    "        },\n",
    "        {\n",
    "            'root': 'Stephan',\n",
    "            'list_file': 'filelists/stephan_audio_pitch_text_val.txt'\n",
    "        }\n",
    "    ],\n",
    "    'filelists/test.txt': [\n",
    "        {\n",
    "            'root': 'LJSpeech-1.1',\n",
    "            'list_file': 'filelists/ljs_audio_pitch_text_test.txt'\n",
    "        },\n",
    "        {\n",
    "            'root': 'Stephan',\n",
    "            'list_file': 'filelists/stephan_audio_pitch_text_test.txt'\n",
    "        }\n",
    "    ],\n",
    "}\n",
    "\n",
    "for file_name, m_data in merge_data.items():\n",
    "    new_data = []\n",
    "    for sub_m_data in m_data:\n",
    "        with open(sub_m_data['list_file'], 'r') as file:\n",
    "            data = file.readlines()\n",
    "        root_folder = Path(sub_m_data['root'])\n",
    "        for line in data:\n",
    "            parts = line.strip().split('|')\n",
    "            wav_path = Path(parts[0])\n",
    "            pitch_path = Path(parts[1])\n",
    "            parts[0] = str(root_folder / wav_path)\n",
    "            parts[1] = str(root_folder / pitch_path)\n",
    "            new_data.append('|'.join(parts) + '\\n')\n",
    "    with open(file_name, 'w') as file:\n",
    "        file.writelines(new_data)\n",
    "        "
   ]
  }
 ],
 "metadata": {
  "kernelspec": {
   "display_name": "Python 3",
   "language": "python",
   "name": "python3"
  },
  "language_info": {
   "codemirror_mode": {
    "name": "ipython",
    "version": 3
   },
   "file_extension": ".py",
   "mimetype": "text/x-python",
   "name": "python",
   "nbconvert_exporter": "python",
   "pygments_lexer": "ipython3",
   "version": "3.10.6"
  },
  "orig_nbformat": 4
 },
 "nbformat": 4,
 "nbformat_minor": 2
}
