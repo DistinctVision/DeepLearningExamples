{
 "cells": [
  {
   "cell_type": "code",
   "execution_count": 4,
   "metadata": {},
   "outputs": [
    {
     "name": "stdout",
     "output_type": "stream",
     "text": [
      "['LJSpeech-1.1/wavs/LJ050-0234.wav\\n', 'LJSpeech-1.1/wavs/LJ019-0373.wav\\n', 'LJSpeech-1.1/wavs/LJ050-0207.wav\\n', 'LJSpeech-1.1/wavs/LJ048-0203.wav\\n', 'LJSpeech-1.1/wavs/LJ003-0182.wav\\n', 'LJSpeech-1.1/wavs/LJ044-0166.wav\\n', 'LJSpeech-1.1/wavs/LJ019-0208.wav\\n', 'LJSpeech-1.1/wavs/LJ021-0146.wav\\n', 'LJSpeech-1.1/wavs/LJ013-0214.wav\\n', 'LJSpeech-1.1/wavs/LJ011-0256.wav\\n', 'LJSpeech-1.1/wavs/LJ014-0083.wav\\n', 'LJSpeech-1.1/wavs/LJ035-0121.wav\\n', 'LJSpeech-1.1/wavs/LJ049-0118.wav\\n', 'LJSpeech-1.1/wavs/LJ006-0132.wav\\n', 'LJSpeech-1.1/wavs/LJ049-0084.wav\\n', 'LJSpeech-1.1/wavs/LJ012-0052.wav\\n', 'LJSpeech-1.1/wavs/LJ011-0203.wav\\n', 'LJSpeech-1.1/wavs/LJ019-0141.wav\\n', 'LJSpeech-1.1/wavs/LJ003-0322.wav\\n', 'LJSpeech-1.1/wavs/LJ027-0028.wav\\n', 'LJSpeech-1.1/wavs/LJ047-0068.wav\\n', 'LJSpeech-1.1/wavs/LJ036-0053.wav\\n', 'LJSpeech-1.1/wavs/LJ007-0046.wav\\n', 'LJSpeech-1.1/wavs/LJ033-0149.wav\\n', 'LJSpeech-1.1/wavs/LJ018-0334.wav\\n', 'LJSpeech-1.1/wavs/LJ043-0073.wav\\n', 'LJSpeech-1.1/wavs/LJ028-0169.wav\\n', 'LJSpeech-1.1/wavs/LJ032-0052.wav\\n', 'LJSpeech-1.1/wavs/LJ015-0030.wav\\n', 'LJSpeech-1.1/wavs/LJ006-0115.wav\\n', 'LJSpeech-1.1/wavs/LJ039-0237.wav\\n', 'LJSpeech-1.1/wavs/LJ027-0081.wav\\n', 'LJSpeech-1.1/wavs/LJ031-0045.wav\\n', 'LJSpeech-1.1/wavs/LJ019-0393.wav\\n', 'LJSpeech-1.1/wavs/LJ040-0209.wav\\n', 'LJSpeech-1.1/wavs/LJ004-0222.wav\\n', 'LJSpeech-1.1/wavs/LJ009-0139.wav\\n', 'LJSpeech-1.1/wavs/LJ020-0087.wav\\n', 'LJSpeech-1.1/wavs/LJ008-0175.wav\\n', 'LJSpeech-1.1/wavs/LJ025-0058.wav\\n', 'LJSpeech-1.1/wavs/LJ022-0011.wav\\n', 'LJSpeech-1.1/wavs/LJ037-0219.wav\\n', 'LJSpeech-1.1/wavs/LJ008-0190.wav\\n', 'LJSpeech-1.1/wavs/LJ019-0357.wav\\n', 'LJSpeech-1.1/wavs/LJ043-0122.wav\\n', 'LJSpeech-1.1/wavs/LJ013-0161.wav\\n', 'LJSpeech-1.1/wavs/LJ002-0319.wav\\n', 'LJSpeech-1.1/wavs/LJ001-0178.wav\\n', 'LJSpeech-1.1/wavs/LJ015-0170.wav\\n', 'LJSpeech-1.1/wavs/LJ012-0224.wav\\n', 'LJSpeech-1.1/wavs/LJ047-0047.wav\\n', 'LJSpeech-1.1/wavs/LJ020-0052.wav\\n', 'LJSpeech-1.1/wavs/LJ013-0077.wav\\n', 'LJSpeech-1.1/wavs/LJ048-0153.wav\\n', 'LJSpeech-1.1/wavs/LJ003-0028.wav\\n', 'LJSpeech-1.1/wavs/LJ002-0277.wav\\n', 'LJSpeech-1.1/wavs/LJ009-0050.wav\\n', 'LJSpeech-1.1/wavs/LJ003-0084.wav\\n', 'LJSpeech-1.1/wavs/LJ018-0305.wav\\n', 'LJSpeech-1.1/wavs/LJ015-0118.wav\\n', 'LJSpeech-1.1/wavs/LJ034-0128.wav\\n', 'LJSpeech-1.1/wavs/LJ035-0074.wav\\n', 'LJSpeech-1.1/wavs/LJ028-0466.wav\\n', 'LJSpeech-1.1/wavs/LJ048-0241.wav\\n', 'LJSpeech-1.1/wavs/LJ028-0184.wav\\n', 'LJSpeech-1.1/wavs/LJ030-0034.wav\\n', 'LJSpeech-1.1/wavs/LJ005-0222.wav\\n', 'LJSpeech-1.1/wavs/LJ004-0067.wav\\n', 'LJSpeech-1.1/wavs/LJ010-0215.wav\\n', 'LJSpeech-1.1/wavs/LJ013-0096.wav\\n', 'LJSpeech-1.1/wavs/LJ028-0397.wav\\n', 'LJSpeech-1.1/wavs/LJ046-0069.wav\\n', 'LJSpeech-1.1/wavs/LJ022-0096.wav\\n', 'LJSpeech-1.1/wavs/LJ041-0151.wav\\n', 'LJSpeech-1.1/wavs/LJ030-0109.wav\\n', 'LJSpeech-1.1/wavs/LJ014-0064.wav\\n', 'LJSpeech-1.1/wavs/LJ015-0273.wav\\n', 'LJSpeech-1.1/wavs/LJ046-0012.wav\\n', 'LJSpeech-1.1/wavs/LJ009-0100.wav\\n', 'LJSpeech-1.1/wavs/LJ050-0181.wav\\n', 'LJSpeech-1.1/wavs/LJ002-0264.wav\\n', 'LJSpeech-1.1/wavs/LJ009-0118.wav\\n', 'LJSpeech-1.1/wavs/LJ025-0154.wav\\n', 'LJSpeech-1.1/wavs/LJ006-0077.wav\\n', 'LJSpeech-1.1/wavs/LJ049-0167.wav\\n', 'LJSpeech-1.1/wavs/LJ009-0012.wav\\n', 'LJSpeech-1.1/wavs/LJ035-0200.wav\\n', 'LJSpeech-1.1/wavs/LJ027-0059.wav\\n', 'LJSpeech-1.1/wavs/LJ016-0022.wav\\n', 'LJSpeech-1.1/wavs/LJ040-0055.wav\\n', 'LJSpeech-1.1/wavs/LJ019-0178.wav\\n', 'LJSpeech-1.1/wavs/LJ018-0286.wav\\n', 'LJSpeech-1.1/wavs/LJ044-0145.wav\\n', 'LJSpeech-1.1/wavs/LJ003-0222.wav\\n', 'LJSpeech-1.1/wavs/LJ034-0086.wav\\n', 'LJSpeech-1.1/wavs/LJ044-0050.wav\\n', 'LJSpeech-1.1/wavs/LJ003-0198.wav\\n', 'LJSpeech-1.1/wavs/LJ028-0352.wav\\n', 'LJSpeech-1.1/wavs/LJ038-0022.wav\\n', 'LJSpeech-1.1/wavs/LJ017-0278.wav\\n']\n",
      "['LJSpeech-1.1/wavs/LJ016-0288.wav\\n', 'LJSpeech-1.1/wavs/LJ028-0275.wav\\n', 'LJSpeech-1.1/wavs/LJ019-0273.wav\\n', 'LJSpeech-1.1/wavs/LJ021-0145.wav\\n', 'LJSpeech-1.1/wavs/LJ009-0076.wav\\n', 'LJSpeech-1.1/wavs/LJ048-0194.wav\\n', 'LJSpeech-1.1/wavs/LJ049-0050.wav\\n', 'LJSpeech-1.1/wavs/LJ022-0023.wav\\n', 'LJSpeech-1.1/wavs/LJ034-0053.wav\\n', 'LJSpeech-1.1/wavs/LJ035-0129.wav\\n', 'LJSpeech-1.1/wavs/LJ039-0075.wav\\n', 'LJSpeech-1.1/wavs/LJ046-0184.wav\\n', 'LJSpeech-1.1/wavs/LJ003-0111.wav\\n', 'LJSpeech-1.1/wavs/LJ037-0234.wav\\n', 'LJSpeech-1.1/wavs/LJ047-0044.wav\\n', 'LJSpeech-1.1/wavs/LJ028-0081.wav\\n', 'LJSpeech-1.1/wavs/LJ012-0161.wav\\n', 'LJSpeech-1.1/wavs/LJ009-0114.wav\\n', 'LJSpeech-1.1/wavs/LJ028-0335.wav\\n', 'LJSpeech-1.1/wavs/LJ005-0014.wav\\n', 'LJSpeech-1.1/wavs/LJ008-0294.wav\\n', 'LJSpeech-1.1/wavs/LJ028-0307.wav\\n', 'LJSpeech-1.1/wavs/LJ046-0058.wav\\n', 'LJSpeech-1.1/wavs/LJ046-0146.wav\\n', 'LJSpeech-1.1/wavs/LJ017-0131.wav\\n', 'LJSpeech-1.1/wavs/LJ002-0018.wav\\n', 'LJSpeech-1.1/wavs/LJ019-0257.wav\\n', 'LJSpeech-1.1/wavs/LJ034-0042.wav\\n', 'LJSpeech-1.1/wavs/LJ031-0070.wav\\n', 'LJSpeech-1.1/wavs/LJ012-0035.wav\\n', 'LJSpeech-1.1/wavs/LJ050-0168.wav\\n', 'LJSpeech-1.1/wavs/LJ036-0103.wav\\n', 'LJSpeech-1.1/wavs/LJ016-0318.wav\\n', 'LJSpeech-1.1/wavs/LJ034-0198.wav\\n', 'LJSpeech-1.1/wavs/LJ049-0026.wav\\n', 'LJSpeech-1.1/wavs/LJ011-0096.wav\\n', 'LJSpeech-1.1/wavs/LJ040-0002.wav\\n', 'LJSpeech-1.1/wavs/LJ014-0030.wav\\n', 'LJSpeech-1.1/wavs/LJ043-0002.wav\\n', 'LJSpeech-1.1/wavs/LJ029-0022.wav\\n', 'LJSpeech-1.1/wavs/LJ014-0020.wav\\n', 'LJSpeech-1.1/wavs/LJ040-0027.wav\\n', 'LJSpeech-1.1/wavs/LJ028-0093.wav\\n', 'LJSpeech-1.1/wavs/LJ004-0152.wav\\n', 'LJSpeech-1.1/wavs/LJ008-0111.wav\\n', 'LJSpeech-1.1/wavs/LJ017-0044.wav\\n', 'LJSpeech-1.1/wavs/LJ033-0047.wav\\n', 'LJSpeech-1.1/wavs/LJ028-0008.wav\\n', 'LJSpeech-1.1/wavs/LJ016-0179.wav\\n', 'LJSpeech-1.1/wavs/LJ005-0201.wav\\n', 'LJSpeech-1.1/wavs/LJ035-0019.wav\\n', 'LJSpeech-1.1/wavs/LJ031-0038.wav\\n', 'LJSpeech-1.1/wavs/LJ017-0070.wav\\n', 'LJSpeech-1.1/wavs/LJ007-0154.wav\\n', 'LJSpeech-1.1/wavs/LJ002-0043.wav\\n', 'LJSpeech-1.1/wavs/LJ004-0096.wav\\n', 'LJSpeech-1.1/wavs/LJ018-0081.wav\\n', 'LJSpeech-1.1/wavs/LJ042-0129.wav\\n', 'LJSpeech-1.1/wavs/LJ008-0278.wav\\n', 'LJSpeech-1.1/wavs/LJ015-0203.wav\\n', 'LJSpeech-1.1/wavs/LJ018-0239.wav\\n', 'LJSpeech-1.1/wavs/LJ021-0066.wav\\n', 'LJSpeech-1.1/wavs/LJ024-0083.wav\\n', 'LJSpeech-1.1/wavs/LJ008-0258.wav\\n', 'LJSpeech-1.1/wavs/LJ038-0199.wav\\n', 'LJSpeech-1.1/wavs/LJ045-0230.wav\\n', 'LJSpeech-1.1/wavs/LJ027-0141.wav\\n', 'LJSpeech-1.1/wavs/LJ016-0020.wav\\n', 'LJSpeech-1.1/wavs/LJ012-0250.wav\\n', 'LJSpeech-1.1/wavs/LJ001-0110.wav\\n', 'LJSpeech-1.1/wavs/LJ047-0148.wav\\n', 'LJSpeech-1.1/wavs/LJ031-0134.wav\\n', 'LJSpeech-1.1/wavs/LJ036-0174.wav\\n', 'LJSpeech-1.1/wavs/LJ026-0068.wav\\n', 'LJSpeech-1.1/wavs/LJ034-0160.wav\\n', 'LJSpeech-1.1/wavs/LJ013-0164.wav\\n', 'LJSpeech-1.1/wavs/LJ014-0263.wav\\n', 'LJSpeech-1.1/wavs/LJ005-0079.wav\\n', 'LJSpeech-1.1/wavs/LJ048-0228.wav\\n', 'LJSpeech-1.1/wavs/LJ027-0052.wav\\n', 'LJSpeech-1.1/wavs/LJ004-0045.wav\\n', 'LJSpeech-1.1/wavs/LJ012-0042.wav\\n', 'LJSpeech-1.1/wavs/LJ014-0110.wav\\n', 'LJSpeech-1.1/wavs/LJ028-0506.wav\\n', 'LJSpeech-1.1/wavs/LJ014-0010.wav\\n', 'LJSpeech-1.1/wavs/LJ042-0096.wav\\n', 'LJSpeech-1.1/wavs/LJ031-0202.wav\\n', 'LJSpeech-1.1/wavs/LJ012-0235.wav\\n', 'LJSpeech-1.1/wavs/LJ019-0186.wav\\n', 'LJSpeech-1.1/wavs/LJ018-0098.wav\\n', 'LJSpeech-1.1/wavs/LJ036-0077.wav\\n', 'LJSpeech-1.1/wavs/LJ045-0140.wav\\n', 'LJSpeech-1.1/wavs/LJ029-0032.wav\\n', 'LJSpeech-1.1/wavs/LJ003-0345.wav\\n', 'LJSpeech-1.1/wavs/LJ008-0307.wav\\n', 'LJSpeech-1.1/wavs/LJ043-0030.wav\\n', 'LJSpeech-1.1/wavs/LJ009-0238.wav\\n', 'LJSpeech-1.1/wavs/LJ039-0223.wav\\n', 'LJSpeech-1.1/wavs/LJ014-0076.wav\\n', 'LJSpeech-1.1/wavs/LJ016-0138.wav\\n']\n"
     ]
    }
   ],
   "source": [
    "from pathlib import Path\n",
    "\n",
    "source_lists = ['/home/server2/dev/DeepLearningExamples/PyTorch/SpeechSynthesis/FastPitch/filelists/train.txt',\n",
    "                '/home/server2/dev/DeepLearningExamples/PyTorch/SpeechSynthesis/FastPitch/filelists/val.txt']\n",
    "target_folder = Path('data/filelists')\n",
    "dataset_folder = Path('/home/server2/datasets/')\n",
    "\n",
    "for source_list in source_lists:\n",
    "    source_list = Path(source_list)\n",
    "    paths = []\n",
    "    with open(source_list, 'r') as file:\n",
    "        lines = file.readlines()\n",
    "    for line in lines:\n",
    "        line = line.strip()\n",
    "        if len(line) == 0:\n",
    "            continue\n",
    "        parts = line.split('|')\n",
    "        audio_path = parts[0]\n",
    "        full_audio_path = dataset_folder / audio_path\n",
    "        assert full_audio_path.exists()\n",
    "        paths.append(audio_path + '\\n')\n",
    "    print(paths[:100])\n",
    "    with open(target_folder / source_list.name, 'w') as file:\n",
    "        file.writelines(paths)"
   ]
  }
 ],
 "metadata": {
  "kernelspec": {
   "display_name": "Python 3",
   "language": "python",
   "name": "python3"
  },
  "language_info": {
   "codemirror_mode": {
    "name": "ipython",
    "version": 3
   },
   "file_extension": ".py",
   "mimetype": "text/x-python",
   "name": "python",
   "nbconvert_exporter": "python",
   "pygments_lexer": "ipython3",
   "version": "3.10.6"
  },
  "orig_nbformat": 4
 },
 "nbformat": 4,
 "nbformat_minor": 2
}
