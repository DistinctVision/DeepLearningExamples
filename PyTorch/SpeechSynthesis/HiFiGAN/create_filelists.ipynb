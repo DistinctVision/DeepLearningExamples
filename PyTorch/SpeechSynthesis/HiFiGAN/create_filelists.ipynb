{
 "cells": [
  {
   "cell_type": "code",
   "execution_count": 9,
   "metadata": {},
   "outputs": [],
   "source": [
    "from pathlib import Path\n",
    "from tqdm import tqdm \n",
    "\n",
    "dataset_path = Path('/root/datasets/')\n",
    "fastpitch_path = Path('/home/server2/dev/DeepLearningExamples/PyTorch/SpeechSynthesis/FastPitch')\n",
    "hifigan_path = Path('/home/server2/dev/DeepLearningExamples/PyTorch/SpeechSynthesis/HiFiGAN')\n",
    "\n",
    "filelists_init = fastpitch_path / 'filelists'\n",
    "filelists_result = hifigan_path / 'data' / 'filelists'\n",
    "\n",
    "train_init = filelists_init / 'train.txt'\n",
    "val_init = filelists_init / 'val.txt'\n",
    "\n",
    "train_res = filelists_result / 'train.txt'\n",
    "val_res = filelists_result / 'val.txt'"
   ]
  },
  {
   "cell_type": "code",
   "execution_count": 10,
   "metadata": {},
   "outputs": [
    {
     "ename": "NameError",
     "evalue": "name 'val_res' is not defined",
     "output_type": "error",
     "traceback": [
      "\u001b[0;31m---------------------------------------------------------------------------\u001b[0m",
      "\u001b[0;31mNameError\u001b[0m                                 Traceback (most recent call last)",
      "\u001b[1;32m/home/server2/dev/DeepLearningExamples/PyTorch/SpeechSynthesis/HiFiGAN/create_filelists.ipynb Cell 2\u001b[0m line \u001b[0;36m1\n\u001b[0;32m----> <a href='vscode-notebook-cell://ssh-remote%2Bturk_ml/home/server2/dev/DeepLearningExamples/PyTorch/SpeechSynthesis/HiFiGAN/create_filelists.ipynb#W3sdnNjb2RlLXJlbW90ZQ%3D%3D?line=0'>1</a>\u001b[0m covert_to_hifigan_filelist(val_init, val_res)\n\u001b[1;32m      <a href='vscode-notebook-cell://ssh-remote%2Bturk_ml/home/server2/dev/DeepLearningExamples/PyTorch/SpeechSynthesis/HiFiGAN/create_filelists.ipynb#W3sdnNjb2RlLXJlbW90ZQ%3D%3D?line=1'>2</a>\u001b[0m covert_to_hifigan_filelist(train_init, train_res)\n",
      "\u001b[0;31mNameError\u001b[0m: name 'val_res' is not defined"
     ]
    }
   ],
   "source": [
    "covert_to_hifigan_filelist(val_init, val_res)\n",
    "covert_to_hifigan_filelist(train_init, train_res)"
   ]
  },
  {
   "cell_type": "code",
   "execution_count": 7,
   "metadata": {},
   "outputs": [],
   "source": [
    "def covert_to_hifigan_filelist(filelist_init, filelist_res):\n",
    "    if not filelist.exists():\n",
    "        return False\n",
    "    \n",
    "    with open(filelist_init, 'r') as f_init, open(filelist_res, 'w') as f_res:\n",
    "        for line in filelists_init.readline():\n",
    "            audiopath, pitch, text, speaker = line.split('|')\n",
    "            new_line = f\"{text} {speaker}\\n\"\n",
    "            f_res.write(new_line)\n",
    "    \n",
    "    "
   ]
  }
 ],
 "metadata": {
  "kernelspec": {
   "display_name": "Python 3",
   "language": "python",
   "name": "python3"
  },
  "language_info": {
   "codemirror_mode": {
    "name": "ipython",
    "version": 3
   },
   "file_extension": ".py",
   "mimetype": "text/x-python",
   "name": "python",
   "nbconvert_exporter": "python",
   "pygments_lexer": "ipython3",
   "version": "3.10.6"
  },
  "orig_nbformat": 4
 },
 "nbformat": 4,
 "nbformat_minor": 2
}
